{
  "nbformat": 4,
  "nbformat_minor": 0,
  "metadata": {
    "colab": {
      "provenance": []
    },
    "kernelspec": {
      "name": "python3",
      "display_name": "Python 3"
    },
    "language_info": {
      "name": "python"
    }
  },
  "cells": [
    {
      "cell_type": "code",
      "execution_count": 1,
      "metadata": {
        "colab": {
          "base_uri": "https://localhost:8080/"
        },
        "id": "PdX6DMDeaYG4",
        "outputId": "50f81a95-7e7a-4230-83cf-27ab109f8839"
      },
      "outputs": [
        {
          "output_type": "stream",
          "name": "stdout",
          "text": [
            "Requirement already satisfied: requests in /usr/local/lib/python3.10/dist-packages (2.32.3)\n",
            "Requirement already satisfied: beautifulsoup4 in /usr/local/lib/python3.10/dist-packages (4.12.3)\n",
            "Requirement already satisfied: charset-normalizer<4,>=2 in /usr/local/lib/python3.10/dist-packages (from requests) (3.4.0)\n",
            "Requirement already satisfied: idna<4,>=2.5 in /usr/local/lib/python3.10/dist-packages (from requests) (3.10)\n",
            "Requirement already satisfied: urllib3<3,>=1.21.1 in /usr/local/lib/python3.10/dist-packages (from requests) (2.2.3)\n",
            "Requirement already satisfied: certifi>=2017.4.17 in /usr/local/lib/python3.10/dist-packages (from requests) (2024.8.30)\n",
            "Requirement already satisfied: soupsieve>1.2 in /usr/local/lib/python3.10/dist-packages (from beautifulsoup4) (2.6)\n"
          ]
        }
      ],
      "source": [
        "pip install requests beautifulsoup4\n"
      ]
    },
    {
      "cell_type": "code",
      "source": [
        "import requests\n",
        "from bs4 import BeautifulSoup\n",
        "\n",
        "# URL de la página de MercadoLibre\n",
        "url = 'https://www.mercadolibre.com.co/ea-sports-fc-25-playstation-4/p/MCO39293634#polycard_client=search-nordic&searchVariation=MCO39293634&position=4&search_layout=stack&type=product&tracking_id=1dd3a472-1e17-4cfa-a4d6-e5207b772068&wid=MCO1494190835&sid=search'\n",
        "\n",
        "# Realizamos una solicitud HTTP GET a la página\n",
        "headers = {\n",
        "    \"User-Agent\": \"Mozilla/5.0 (Windows NT 10.0; Win64; x64) AppleWebKit/537.36 (KHTML, like Gecko) Chrome/58.0.3029.110 Safari/537.36\"\n",
        "}\n",
        "response = requests.get(url, headers=headers)\n",
        "\n",
        "# Verificamos que la solicitud fue exitosa\n",
        "if response.status_code == 200:\n",
        "    # Parseamos el contenido HTML de la página con BeautifulSoup\n",
        "    soup = BeautifulSoup(response.text, 'html.parser')\n",
        "\n",
        "    # Ejemplo de extracción de datos\n",
        "    # Extraer el nombre del producto\n",
        "    product_name = soup.find('h1', {'class': 'ui-pdp-title'}).text.strip()\n",
        "\n",
        "    # Extraer el precio actual\n",
        "    currently_price = soup.find('span', {'class': 'andes-money-amount ui-pdp-price__part andes-money-amount--cents-superscript andes-money-amount--compact'}).text.strip()\n",
        "\n",
        "    #Extraer el precio original\n",
        "    original_price = soup.find('s', {'class': 'andes-money-amount ui-pdp-price__part ui-pdp-price__original-value andes-money-amount--previous andes-money-amount--cents-superscript andes-money-amount--compact'}).text.strip()\n",
        "\n",
        "    # Extraer la descripción (si está disponible)\n",
        "    description = soup.find('div', {'class': 'ui-pdp-description'}).text.strip() if soup.find('div', {'class': 'ui-pdp-description'}) else 'No description available'\n",
        "\n",
        "    #Extraer el descuento\n",
        "    discount=soup.find('span', {'class': 'andes-money-amount__discount ui-pdp-family--REGULAR'}).text.strip()\n",
        "\n",
        "    # Mostrar los resultados\n",
        "    print(f\"Product Name: {product_name}\")\n",
        "    print(f\"Currently Price: {currently_price}\")\n",
        "    print(f\"Original Price: {original_price}\")\n",
        "    print(f\"Discount: {discount}\")\n",
        "    print(f\"Description: {description}\")\n",
        "else:\n",
        "    print(f\"Failed to retrieve the page. Status code: {response.status_code}\")\n"
      ],
      "metadata": {
        "colab": {
          "base_uri": "https://localhost:8080/"
        },
        "id": "tmyBWc9haeV0",
        "outputId": "229a2148-aa97-4b7e-cac0-4e25e5004e01"
      },
      "execution_count": 15,
      "outputs": [
        {
          "output_type": "stream",
          "name": "stdout",
          "text": [
            "Product Name: Ea Sports Fc 25 Playstation 4\n",
            "Currently Price: $236.180\n",
            "Original Price: $480.000\n",
            "Discount: 50% OFF\n",
            "Description: DescripciónConsigue más formas de ganar con tu club. Juega en equipo con amigos en tus modos favoritos y administra tu club hasta obtener la victoria con un control táctico sin igual.Eleva a tu equipo al nivel de los mejores del mundo con la inteligencia futbolística de FC. Una renovación de las bases tácticas del juego ofrece un gran control estratégico y un movimiento del equipo aún más realista. Además, un nuevo modelo de IA alimentado por información del mundo real influencia las tácticas de los jugadores con nuevos roles de jugador.Las nuevas incorporaciones a las Carreras de jugador y de DT te permitirán disfrutar de las historias más importantes del mundo real con los Live Start Points**. Reescribe la historia de los íconos del pasado con los equipos actuales en Carrera de jugador y, por primera vez, disfruta de una experiencia auténtica con Carrera femenina, que te permitirá controlar un club o a una jugadora de las mejores cinco ligas de fútbol femenino.\n"
          ]
        }
      ]
    }
  ]
}